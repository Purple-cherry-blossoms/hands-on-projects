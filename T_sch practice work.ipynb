{
 "cells": [
  {
   "cell_type": "code",
   "execution_count": null,
   "id": "7030647a-a824-497e-a08f-33ad51b0d0e3",
   "metadata": {},
   "outputs": [],
   "source": []
  },
  {
   "cell_type": "code",
   "execution_count": 1,
   "id": "7e8cd67f-1495-4247-9251-224d2db7b6f3",
   "metadata": {},
   "outputs": [
    {
     "name": "stdout",
     "output_type": "stream",
     "text": [
      "Blossom is 23 years old\n"
     ]
    }
   ],
   "source": [
    "birth_year=2001\n",
    "current_year= 2024\n",
    "age = current_year - birth_year\n",
    "print(f'B is {age} years old')"
   ]
  },
  {
   "cell_type": "code",
   "execution_count": null,
   "id": "872dd841-be60-416f-a1c6-75155db9eb86",
   "metadata": {},
   "outputs": [],
   "source": [
    "#Learning Numpy"
   ]
  },
  {
   "cell_type": "code",
   "execution_count": 7,
   "id": "489679c6-13de-4974-8dee-0360923b7c8c",
   "metadata": {},
   "outputs": [],
   "source": [
    "import numpy as np"
   ]
  },
  {
   "cell_type": "code",
   "execution_count": 90,
   "id": "9c5feb17-3841-49af-aa0a-b77f807c5674",
   "metadata": {},
   "outputs": [],
   "source": [
    "a =np.array([1,2,3])\n",
    "b = np.array([7,8,9])"
   ]
  },
  {
   "cell_type": "code",
   "execution_count": 92,
   "id": "0b8c044d-50b7-4ae6-b3e9-0895b277f1eb",
   "metadata": {},
   "outputs": [
    {
     "data": {
      "text/plain": [
       "array([1, 2, 3])"
      ]
     },
     "execution_count": 92,
     "metadata": {},
     "output_type": "execute_result"
    }
   ],
   "source": [
    "a"
   ]
  },
  {
   "cell_type": "code",
   "execution_count": 33,
   "id": "8ec45720-78a5-4b71-afd7-6c75ec9a9b4a",
   "metadata": {},
   "outputs": [
    {
     "data": {
      "text/plain": [
       "1"
      ]
     },
     "execution_count": 33,
     "metadata": {},
     "output_type": "execute_result"
    }
   ],
   "source": [
    "#getting dimension\n",
    "a.ndim"
   ]
  },
  {
   "cell_type": "code",
   "execution_count": 35,
   "id": "4643d26c-9216-4c1e-9df7-0e306cf0d391",
   "metadata": {},
   "outputs": [
    {
     "data": {
      "text/plain": [
       "1"
      ]
     },
     "execution_count": 35,
     "metadata": {},
     "output_type": "execute_result"
    }
   ],
   "source": [
    "b.ndim"
   ]
  },
  {
   "cell_type": "code",
   "execution_count": 37,
   "id": "f7438eef-1a4b-40ff-83f6-295279526a15",
   "metadata": {},
   "outputs": [
    {
     "data": {
      "text/plain": [
       "(3,)"
      ]
     },
     "execution_count": 37,
     "metadata": {},
     "output_type": "execute_result"
    }
   ],
   "source": [
    "#Shape\n",
    "b.shape"
   ]
  },
  {
   "cell_type": "code",
   "execution_count": 141,
   "id": "b8d52204-543a-4da6-9b28-80a0a04448bc",
   "metadata": {},
   "outputs": [
    {
     "data": {
      "text/plain": [
       "numpy.ndarray"
      ]
     },
     "execution_count": 141,
     "metadata": {},
     "output_type": "execute_result"
    }
   ],
   "source": [
    "#Get type of array\n",
    "type(a)"
   ]
  },
  {
   "cell_type": "code",
   "execution_count": 143,
   "id": "2b234d46-4bb6-48b9-98ec-2b8c6b6d1876",
   "metadata": {},
   "outputs": [
    {
     "data": {
      "text/plain": [
       "dtype('int32')"
      ]
     },
     "execution_count": 143,
     "metadata": {},
     "output_type": "execute_result"
    }
   ],
   "source": [
    "a.dtype"
   ]
  },
  {
   "cell_type": "markdown",
   "id": "d44d3876-80be-46d3-95e0-ac8d220b65d9",
   "metadata": {},
   "source": [
    "Accessing Data/ chaging specific elements,rows, columns\n",
    "=============\n"
   ]
  },
  {
   "cell_type": "code",
   "execution_count": 110,
   "id": "e7420642-f6ee-4e89-9e2a-045dbfab00a2",
   "metadata": {},
   "outputs": [],
   "source": [
    "a = np.array([[1,2,3,4,5,6,7] , [8,9,10,11,12,13,14]])"
   ]
  },
  {
   "cell_type": "code",
   "execution_count": 112,
   "id": "788714b0-d9e1-4478-8787-88b2d8ee87c4",
   "metadata": {},
   "outputs": [
    {
     "data": {
      "text/plain": [
       "array([[ 1,  2,  3,  4,  5,  6,  7],\n",
       "       [ 8,  9, 10, 11, 12, 13, 14]])"
      ]
     },
     "execution_count": 112,
     "metadata": {},
     "output_type": "execute_result"
    }
   ],
   "source": [
    "a"
   ]
  },
  {
   "cell_type": "code",
   "execution_count": 46,
   "id": "ed861902-04a2-4215-9d7f-5e6a6c006793",
   "metadata": {},
   "outputs": [
    {
     "data": {
      "text/plain": [
       "13"
      ]
     },
     "execution_count": 46,
     "metadata": {},
     "output_type": "execute_result"
    }
   ],
   "source": [
    "#To get a specific element(rows(up-dwn),column(left-right)) starts from 0\n",
    "a[1,5]"
   ]
  },
  {
   "cell_type": "code",
   "execution_count": 48,
   "id": "1d68cab5-891b-4ed3-a182-927913329f29",
   "metadata": {},
   "outputs": [
    {
     "data": {
      "text/plain": [
       "array([1, 2, 3, 4, 5, 6, 7])"
      ]
     },
     "execution_count": 48,
     "metadata": {},
     "output_type": "execute_result"
    }
   ],
   "source": [
    "#get a row (: for all)\n",
    "a[0, :]"
   ]
  },
  {
   "cell_type": "code",
   "execution_count": 50,
   "id": "095bcc3d-cb9c-4698-8e1d-e60c17e2f7a9",
   "metadata": {},
   "outputs": [
    {
     "data": {
      "text/plain": [
       "array([ 3, 10])"
      ]
     },
     "execution_count": 50,
     "metadata": {},
     "output_type": "execute_result"
    }
   ],
   "source": [
    "#get all in column specified\n",
    "a[:,2]"
   ]
  },
  {
   "cell_type": "code",
   "execution_count": 114,
   "id": "aa1627a1-1eea-4ed3-9aec-84cc1fa24942",
   "metadata": {},
   "outputs": [
    {
     "data": {
      "text/plain": [
       "2059"
      ]
     },
     "execution_count": 114,
     "metadata": {},
     "output_type": "execute_result"
    }
   ],
   "source": [
    "#Sum data\n",
    "A = np.array([7,12, 15,225,1800])\n",
    "np.sum(A)"
   ]
  },
  {
   "cell_type": "code",
   "execution_count": 116,
   "id": "3a967fe8-5d5c-4373-ac69-9275d027137a",
   "metadata": {},
   "outputs": [
    {
     "data": {
      "text/plain": [
       "411.8"
      ]
     },
     "execution_count": 116,
     "metadata": {},
     "output_type": "execute_result"
    }
   ],
   "source": [
    "#Cal. mean\n",
    "np.mean(A)"
   ]
  },
  {
   "cell_type": "code",
   "execution_count": 118,
   "id": "83125ab1-63c9-46e2-8012-e1a74b36d348",
   "metadata": {},
   "outputs": [
    {
     "data": {
      "text/plain": [
       "array([  14,   24,   30,  450, 3600])"
      ]
     },
     "execution_count": 118,
     "metadata": {},
     "output_type": "execute_result"
    }
   ],
   "source": [
    "#Multiple entire array\n",
    "np.array(A * 2)"
   ]
  },
  {
   "cell_type": "code",
   "execution_count": 120,
   "id": "eb7764f5-507c-43d9-92bf-513f4ac44ad1",
   "metadata": {},
   "outputs": [
    {
     "data": {
      "text/plain": [
       "array([  0.        ,  11.11111111,  22.22222222,  33.33333333,\n",
       "        44.44444444,  55.55555556,  66.66666667,  77.77777778,\n",
       "        88.88888889, 100.        ])"
      ]
     },
     "execution_count": 120,
     "metadata": {},
     "output_type": "execute_result"
    }
   ],
   "source": [
    "#Create 10 evenly spaced numbers btwn 0, 100\n",
    "c = np.linspace(0, 100, 10)\n",
    "c"
   ]
  },
  {
   "cell_type": "code",
   "execution_count": null,
   "id": "472c531d-a593-4a6a-9bb5-441fe178e9bd",
   "metadata": {},
   "outputs": [],
   "source": []
  },
  {
   "cell_type": "code",
   "execution_count": 242,
   "id": "660a2ff2-46f0-4208-815f-ce483f3c47c3",
   "metadata": {},
   "outputs": [],
   "source": [
    "import pandas as pd\n"
   ]
  },
  {
   "cell_type": "code",
   "execution_count": 244,
   "id": "1da085cc-aafa-457b-a01f-807db9dc0e8b",
   "metadata": {},
   "outputs": [],
   "source": [
    "#load data"
   ]
  },
  {
   "cell_type": "code",
   "execution_count": 246,
   "id": "52557358-7fa6-4c6e-ae56-db1eb85e305a",
   "metadata": {},
   "outputs": [],
   "source": [
    "data = pd.read_csv(\"C:\\\\Users\\\\User\\\\Downloads\\\\car_sales.csv\")"
   ]
  },
  {
   "cell_type": "code",
   "execution_count": 272,
   "id": "b98dd6a8-b20b-4216-9468-70424251e1f2",
   "metadata": {},
   "outputs": [
    {
     "data": {
      "text/html": [
       "<div>\n",
       "<style scoped>\n",
       "    .dataframe tbody tr th:only-of-type {\n",
       "        vertical-align: middle;\n",
       "    }\n",
       "\n",
       "    .dataframe tbody tr th {\n",
       "        vertical-align: top;\n",
       "    }\n",
       "\n",
       "    .dataframe thead th {\n",
       "        text-align: right;\n",
       "    }\n",
       "</style>\n",
       "<table border=\"1\" class=\"dataframe\">\n",
       "  <thead>\n",
       "    <tr style=\"text-align: right;\">\n",
       "      <th></th>\n",
       "      <th>Make</th>\n",
       "      <th>Model</th>\n",
       "      <th>Year</th>\n",
       "      <th>Price</th>\n",
       "      <th>Mileage</th>\n",
       "      <th>Age</th>\n",
       "    </tr>\n",
       "  </thead>\n",
       "  <tbody>\n",
       "    <tr>\n",
       "      <th>0</th>\n",
       "      <td>Toyota</td>\n",
       "      <td>Corolla</td>\n",
       "      <td>2019</td>\n",
       "      <td>19500.0</td>\n",
       "      <td>15000</td>\n",
       "      <td>5</td>\n",
       "    </tr>\n",
       "    <tr>\n",
       "      <th>1</th>\n",
       "      <td>Honda</td>\n",
       "      <td>Civic</td>\n",
       "      <td>2018</td>\n",
       "      <td>18000.0</td>\n",
       "      <td>22000</td>\n",
       "      <td>6</td>\n",
       "    </tr>\n",
       "    <tr>\n",
       "      <th>2</th>\n",
       "      <td>Ford</td>\n",
       "      <td>F-150</td>\n",
       "      <td>2020</td>\n",
       "      <td>35000.0</td>\n",
       "      <td>10000</td>\n",
       "      <td>4</td>\n",
       "    </tr>\n",
       "    <tr>\n",
       "      <th>3</th>\n",
       "      <td>Chevrolet</td>\n",
       "      <td>Malibu</td>\n",
       "      <td>2017</td>\n",
       "      <td>16000.0</td>\n",
       "      <td>35000</td>\n",
       "      <td>7</td>\n",
       "    </tr>\n",
       "    <tr>\n",
       "      <th>4</th>\n",
       "      <td>Bmw</td>\n",
       "      <td>3 Series</td>\n",
       "      <td>2021</td>\n",
       "      <td>45000.0</td>\n",
       "      <td>5000</td>\n",
       "      <td>3</td>\n",
       "    </tr>\n",
       "    <tr>\n",
       "      <th>5</th>\n",
       "      <td>Toyota</td>\n",
       "      <td>Camry</td>\n",
       "      <td>2020</td>\n",
       "      <td>25000.0</td>\n",
       "      <td>12000</td>\n",
       "      <td>4</td>\n",
       "    </tr>\n",
       "    <tr>\n",
       "      <th>6</th>\n",
       "      <td>Honda</td>\n",
       "      <td>Accord</td>\n",
       "      <td>2019</td>\n",
       "      <td>23000.0</td>\n",
       "      <td>18000</td>\n",
       "      <td>5</td>\n",
       "    </tr>\n",
       "    <tr>\n",
       "      <th>7</th>\n",
       "      <td>Ford</td>\n",
       "      <td>Escape</td>\n",
       "      <td>2018</td>\n",
       "      <td>20000.0</td>\n",
       "      <td>28000</td>\n",
       "      <td>6</td>\n",
       "    </tr>\n",
       "    <tr>\n",
       "      <th>8</th>\n",
       "      <td>Chevrolet</td>\n",
       "      <td>Equinox</td>\n",
       "      <td>2020</td>\n",
       "      <td>24000.0</td>\n",
       "      <td>14000</td>\n",
       "      <td>4</td>\n",
       "    </tr>\n",
       "    <tr>\n",
       "      <th>9</th>\n",
       "      <td>Bmw</td>\n",
       "      <td>X3</td>\n",
       "      <td>2021</td>\n",
       "      <td>50000.0</td>\n",
       "      <td>7000</td>\n",
       "      <td>3</td>\n",
       "    </tr>\n",
       "    <tr>\n",
       "      <th>10</th>\n",
       "      <td>Toyota</td>\n",
       "      <td>RAV4</td>\n",
       "      <td>2019</td>\n",
       "      <td>26000.0</td>\n",
       "      <td>20000</td>\n",
       "      <td>5</td>\n",
       "    </tr>\n",
       "    <tr>\n",
       "      <th>11</th>\n",
       "      <td>Honda</td>\n",
       "      <td>CR-V</td>\n",
       "      <td>2020</td>\n",
       "      <td>28000.0</td>\n",
       "      <td>16000</td>\n",
       "      <td>4</td>\n",
       "    </tr>\n",
       "    <tr>\n",
       "      <th>12</th>\n",
       "      <td>Ford</td>\n",
       "      <td>Explorer</td>\n",
       "      <td>2017</td>\n",
       "      <td>22000.0</td>\n",
       "      <td>40000</td>\n",
       "      <td>7</td>\n",
       "    </tr>\n",
       "    <tr>\n",
       "      <th>13</th>\n",
       "      <td>Chevrolet</td>\n",
       "      <td>Silverado</td>\n",
       "      <td>2021</td>\n",
       "      <td>38000.0</td>\n",
       "      <td>8000</td>\n",
       "      <td>3</td>\n",
       "    </tr>\n",
       "    <tr>\n",
       "      <th>14</th>\n",
       "      <td>Bmw</td>\n",
       "      <td>5 Series</td>\n",
       "      <td>2018</td>\n",
       "      <td>35000.0</td>\n",
       "      <td>25000</td>\n",
       "      <td>6</td>\n",
       "    </tr>\n",
       "    <tr>\n",
       "      <th>15</th>\n",
       "      <td>Toyota</td>\n",
       "      <td>Highlander</td>\n",
       "      <td>2020</td>\n",
       "      <td>35000.0</td>\n",
       "      <td>15000</td>\n",
       "      <td>4</td>\n",
       "    </tr>\n",
       "    <tr>\n",
       "      <th>16</th>\n",
       "      <td>Honda</td>\n",
       "      <td>Pilot</td>\n",
       "      <td>2019</td>\n",
       "      <td>32000.0</td>\n",
       "      <td>22000</td>\n",
       "      <td>5</td>\n",
       "    </tr>\n",
       "    <tr>\n",
       "      <th>17</th>\n",
       "      <td>Ford</td>\n",
       "      <td>Mustang</td>\n",
       "      <td>2021</td>\n",
       "      <td>40000.0</td>\n",
       "      <td>5000</td>\n",
       "      <td>3</td>\n",
       "    </tr>\n",
       "    <tr>\n",
       "      <th>18</th>\n",
       "      <td>Chevrolet</td>\n",
       "      <td>Camaro</td>\n",
       "      <td>2018</td>\n",
       "      <td>28000.0</td>\n",
       "      <td>30000</td>\n",
       "      <td>6</td>\n",
       "    </tr>\n",
       "    <tr>\n",
       "      <th>19</th>\n",
       "      <td>Bmw</td>\n",
       "      <td>X5</td>\n",
       "      <td>2020</td>\n",
       "      <td>55000.0</td>\n",
       "      <td>12000</td>\n",
       "      <td>4</td>\n",
       "    </tr>\n",
       "  </tbody>\n",
       "</table>\n",
       "</div>"
      ],
      "text/plain": [
       "         Make       Model  Year    Price  Mileage  Age\n",
       "0      Toyota     Corolla  2019  19500.0    15000    5\n",
       "1       Honda       Civic  2018  18000.0    22000    6\n",
       "2        Ford       F-150  2020  35000.0    10000    4\n",
       "3   Chevrolet      Malibu  2017  16000.0    35000    7\n",
       "4         Bmw    3 Series  2021  45000.0     5000    3\n",
       "5      Toyota       Camry  2020  25000.0    12000    4\n",
       "6       Honda      Accord  2019  23000.0    18000    5\n",
       "7        Ford      Escape  2018  20000.0    28000    6\n",
       "8   Chevrolet     Equinox  2020  24000.0    14000    4\n",
       "9         Bmw          X3  2021  50000.0     7000    3\n",
       "10     Toyota        RAV4  2019  26000.0    20000    5\n",
       "11      Honda        CR-V  2020  28000.0    16000    4\n",
       "12       Ford    Explorer  2017  22000.0    40000    7\n",
       "13  Chevrolet   Silverado  2021  38000.0     8000    3\n",
       "14        Bmw    5 Series  2018  35000.0    25000    6\n",
       "15     Toyota  Highlander  2020  35000.0    15000    4\n",
       "16      Honda       Pilot  2019  32000.0    22000    5\n",
       "17       Ford     Mustang  2021  40000.0     5000    3\n",
       "18  Chevrolet      Camaro  2018  28000.0    30000    6\n",
       "19        Bmw          X5  2020  55000.0    12000    4"
      ]
     },
     "execution_count": 272,
     "metadata": {},
     "output_type": "execute_result"
    }
   ],
   "source": [
    "data.head(20)"
   ]
  },
  {
   "cell_type": "code",
   "execution_count": 250,
   "id": "50e36761-9cde-4b8f-a5d7-eeee20c00946",
   "metadata": {},
   "outputs": [
    {
     "data": {
      "text/html": [
       "<div>\n",
       "<style scoped>\n",
       "    .dataframe tbody tr th:only-of-type {\n",
       "        vertical-align: middle;\n",
       "    }\n",
       "\n",
       "    .dataframe tbody tr th {\n",
       "        vertical-align: top;\n",
       "    }\n",
       "\n",
       "    .dataframe thead th {\n",
       "        text-align: right;\n",
       "    }\n",
       "</style>\n",
       "<table border=\"1\" class=\"dataframe\">\n",
       "  <thead>\n",
       "    <tr style=\"text-align: right;\">\n",
       "      <th></th>\n",
       "      <th>Year</th>\n",
       "      <th>Price</th>\n",
       "      <th>Mileage</th>\n",
       "    </tr>\n",
       "  </thead>\n",
       "  <tbody>\n",
       "    <tr>\n",
       "      <th>count</th>\n",
       "      <td>20.000000</td>\n",
       "      <td>20.000000</td>\n",
       "      <td>20.000000</td>\n",
       "    </tr>\n",
       "    <tr>\n",
       "      <th>mean</th>\n",
       "      <td>2019.300000</td>\n",
       "      <td>30725.000000</td>\n",
       "      <td>17950.000000</td>\n",
       "    </tr>\n",
       "    <tr>\n",
       "      <th>std</th>\n",
       "      <td>1.301821</td>\n",
       "      <td>10835.462004</td>\n",
       "      <td>9827.324956</td>\n",
       "    </tr>\n",
       "    <tr>\n",
       "      <th>min</th>\n",
       "      <td>2017.000000</td>\n",
       "      <td>16000.000000</td>\n",
       "      <td>5000.000000</td>\n",
       "    </tr>\n",
       "    <tr>\n",
       "      <th>25%</th>\n",
       "      <td>2018.000000</td>\n",
       "      <td>22750.000000</td>\n",
       "      <td>11500.000000</td>\n",
       "    </tr>\n",
       "    <tr>\n",
       "      <th>50%</th>\n",
       "      <td>2019.500000</td>\n",
       "      <td>28000.000000</td>\n",
       "      <td>15500.000000</td>\n",
       "    </tr>\n",
       "    <tr>\n",
       "      <th>75%</th>\n",
       "      <td>2020.000000</td>\n",
       "      <td>35750.000000</td>\n",
       "      <td>22750.000000</td>\n",
       "    </tr>\n",
       "    <tr>\n",
       "      <th>max</th>\n",
       "      <td>2021.000000</td>\n",
       "      <td>55000.000000</td>\n",
       "      <td>40000.000000</td>\n",
       "    </tr>\n",
       "  </tbody>\n",
       "</table>\n",
       "</div>"
      ],
      "text/plain": [
       "              Year         Price       Mileage\n",
       "count    20.000000     20.000000     20.000000\n",
       "mean   2019.300000  30725.000000  17950.000000\n",
       "std       1.301821  10835.462004   9827.324956\n",
       "min    2017.000000  16000.000000   5000.000000\n",
       "25%    2018.000000  22750.000000  11500.000000\n",
       "50%    2019.500000  28000.000000  15500.000000\n",
       "75%    2020.000000  35750.000000  22750.000000\n",
       "max    2021.000000  55000.000000  40000.000000"
      ]
     },
     "execution_count": 250,
     "metadata": {},
     "output_type": "execute_result"
    }
   ],
   "source": [
    "data.describe()"
   ]
  },
  {
   "cell_type": "code",
   "execution_count": 252,
   "id": "8a2264a1-34b9-4735-a18f-baeb097a59a2",
   "metadata": {},
   "outputs": [
    {
     "data": {
      "text/plain": [
       "Make       object\n",
       "Model      object\n",
       "Year        int64\n",
       "Price       int64\n",
       "Mileage     int64\n",
       "dtype: object"
      ]
     },
     "execution_count": 252,
     "metadata": {},
     "output_type": "execute_result"
    }
   ],
   "source": [
    "data.dtypes"
   ]
  },
  {
   "cell_type": "code",
   "execution_count": 254,
   "id": "3076209b-70b8-4ccb-ae73-6db498420b13",
   "metadata": {},
   "outputs": [
    {
     "data": {
      "text/plain": [
       "Make       0\n",
       "Model      0\n",
       "Year       0\n",
       "Price      0\n",
       "Mileage    0\n",
       "dtype: int64"
      ]
     },
     "execution_count": 254,
     "metadata": {},
     "output_type": "execute_result"
    }
   ],
   "source": [
    "data.isnull().sum()"
   ]
  },
  {
   "cell_type": "code",
   "execution_count": 256,
   "id": "d637fa29-b159-4ee4-b302-b7c0870446ec",
   "metadata": {},
   "outputs": [
    {
     "data": {
      "text/plain": [
       "array(['Corolla', 'Civic', 'F-150', 'Malibu', '3 Series', 'Camry',\n",
       "       'Accord', 'Escape', 'Equinox', 'X3', 'RAV4', 'CR-V', 'Explorer',\n",
       "       'Silverado', '5 Series', 'Highlander', 'Pilot', 'Mustang',\n",
       "       'Camaro', 'X5'], dtype=object)"
      ]
     },
     "execution_count": 256,
     "metadata": {},
     "output_type": "execute_result"
    }
   ],
   "source": [
    "data['Model'].unique()"
   ]
  },
  {
   "cell_type": "code",
   "execution_count": 258,
   "id": "65e683ed-336b-4af4-a02a-95a4ed656639",
   "metadata": {},
   "outputs": [],
   "source": [
    "   unique_values_per_column = data.apply(lambda x: x.unique())  # This will return unique values for each column\n",
    "   "
   ]
  },
  {
   "cell_type": "code",
   "execution_count": 260,
   "id": "682d223d-db89-4f0f-ae3a-b5448f42514f",
   "metadata": {},
   "outputs": [
    {
     "name": "stdout",
     "output_type": "stream",
     "text": [
      "Make                   [Toyota, Honda, Ford, Chevrolet, BMW]\n",
      "Model      [Corolla, Civic, F-150, Malibu, 3 Series, Camr...\n",
      "Year                          [2019, 2018, 2020, 2017, 2021]\n",
      "Price      [19500, 18000, 35000, 16000, 45000, 25000, 230...\n",
      "Mileage    [15000, 22000, 10000, 35000, 5000, 12000, 1800...\n",
      "dtype: object\n"
     ]
    }
   ],
   "source": [
    "  print( unique_values_per_column )\n",
    "   "
   ]
  },
  {
   "cell_type": "code",
   "execution_count": 262,
   "id": "c5ef2aeb-9c03-49e5-a466-2121de5d248d",
   "metadata": {},
   "outputs": [
    {
     "data": {
      "text/plain": [
       "array(['Toyota', 'Honda', 'Ford', 'Chevrolet', 'BMW'], dtype=object)"
      ]
     },
     "execution_count": 262,
     "metadata": {},
     "output_type": "execute_result"
    }
   ],
   "source": [
    "data['Make'].unique()"
   ]
  },
  {
   "cell_type": "code",
   "execution_count": 264,
   "id": "9df876f3-1da8-4cc5-9fab-cffdfd47bb6d",
   "metadata": {},
   "outputs": [],
   "source": [
    "#Remove duplicates\n",
    "data.drop_duplicates (inplace = True)"
   ]
  },
  {
   "cell_type": "code",
   "execution_count": 266,
   "id": "14970170-cedd-4a79-bf51-f13add4a4ead",
   "metadata": {},
   "outputs": [],
   "source": [
    "#Convert to numeric\n",
    "data['Price'] = data['Price'].replace('[\\\\$,]', '', regex=True).astype(float)"
   ]
  },
  {
   "cell_type": "code",
   "execution_count": 268,
   "id": "7f85a907-6a7d-4bd3-80d2-bf2bed3b6610",
   "metadata": {},
   "outputs": [],
   "source": [
    "#standardize Make column to title\n",
    "data['Make'] = data['Make'].str.title()"
   ]
  },
  {
   "cell_type": "code",
   "execution_count": 270,
   "id": "c2bc8a5a-4412-4a5e-89ca-17be8f553975",
   "metadata": {},
   "outputs": [],
   "source": [
    "#create a new column Age Based on Year\n",
    "import datetime\n",
    "current_year = datetime.datetime.now().year\n",
    "data['Age'] = current_year - data['Year']"
   ]
  },
  {
   "cell_type": "code",
   "execution_count": 274,
   "id": "73eb4ee2-9b09-4c0f-80d8-fd6760ee5318",
   "metadata": {},
   "outputs": [
    {
     "name": "stdout",
     "output_type": "stream",
     "text": [
      "0     5\n",
      "1     6\n",
      "2     4\n",
      "3     7\n",
      "4     3\n",
      "5     4\n",
      "6     5\n",
      "7     6\n",
      "8     4\n",
      "9     3\n",
      "10    5\n",
      "11    4\n",
      "12    7\n",
      "13    3\n",
      "14    6\n",
      "15    4\n",
      "16    5\n",
      "17    3\n",
      "18    6\n",
      "19    4\n",
      "Name: Age, dtype: int64\n"
     ]
    }
   ],
   "source": [
    "print(data['Age'])"
   ]
  },
  {
   "cell_type": "code",
   "execution_count": 276,
   "id": "7c5004e5-245c-4642-98ef-b54b29cc1d85",
   "metadata": {},
   "outputs": [],
   "source": [
    "#remove outliers (cars with high mileage)\n",
    "data = data[data['Mileage'] < data['Mileage'].quantile(0.99)]"
   ]
  },
  {
   "cell_type": "code",
   "execution_count": 290,
   "id": "8821189a-e4f9-4e35-9251-2fde0bd99637",
   "metadata": {},
   "outputs": [
    {
     "name": "stdout",
     "output_type": "stream",
     "text": [
      "        Make     Model  Year    Price  Mileage  Age Price_Category\n",
      "0     Toyota   Corolla  2019  19500.0    15000    5         Budget\n",
      "1      Honda     Civic  2018  18000.0    22000    6         Budget\n",
      "2       Ford     F-150  2020  35000.0    10000    4      Mid-Range\n",
      "3  Chevrolet    Malibu  2017  16000.0    35000    7         Budget\n",
      "4        Bmw  3 Series  2021  45000.0     5000    3         Luxury\n",
      "<class 'pandas.core.frame.DataFrame'>\n",
      "Index: 19 entries, 0 to 19\n",
      "Data columns (total 7 columns):\n",
      " #   Column          Non-Null Count  Dtype  \n",
      "---  ------          --------------  -----  \n",
      " 0   Make            19 non-null     object \n",
      " 1   Model           19 non-null     object \n",
      " 2   Year            19 non-null     int64  \n",
      " 3   Price           19 non-null     float64\n",
      " 4   Mileage         19 non-null     int64  \n",
      " 5   Age             19 non-null     int64  \n",
      " 6   Price_Category  19 non-null     object \n",
      "dtypes: float64(1), int64(3), object(3)\n",
      "memory usage: 1.2+ KB\n",
      "None\n"
     ]
    }
   ],
   "source": [
    "print(data.head())\n",
    "print(data.info())"
   ]
  },
  {
   "cell_type": "code",
   "execution_count": 208,
   "id": "a85ff73a-d7b1-4027-bcbf-7c57ffa1fc08",
   "metadata": {},
   "outputs": [],
   "source": [
    "#Ensure the Year columns has only Valid Years within a range\n",
    "data = data[(data['Year'] >= 1900) & (data['Year'] <= current_year)]"
   ]
  },
  {
   "cell_type": "code",
   "execution_count": 280,
   "id": "ee825ae7-14b1-4dd8-8ae1-39c1908a6daf",
   "metadata": {},
   "outputs": [],
   "source": [
    "# Create a new column 'PriceCategory' using a lambda function\n",
    "data['Price_Category'] = data['Price'].apply(lambda x: 'Budget' if x < 20000 else ('Mid-Range' if x <= 40000 else 'Luxury'))"
   ]
  },
  {
   "cell_type": "code",
   "execution_count": 282,
   "id": "d8c89aab-09a6-43f2-84d6-3d14210197d8",
   "metadata": {},
   "outputs": [
    {
     "name": "stdout",
     "output_type": "stream",
     "text": [
      "0        Budget\n",
      "1        Budget\n",
      "2     Mid-Range\n",
      "3        Budget\n",
      "4        Luxury\n",
      "5     Mid-Range\n",
      "6     Mid-Range\n",
      "7     Mid-Range\n",
      "8     Mid-Range\n",
      "9        Luxury\n",
      "10    Mid-Range\n",
      "11    Mid-Range\n",
      "13    Mid-Range\n",
      "14    Mid-Range\n",
      "15    Mid-Range\n",
      "16    Mid-Range\n",
      "17    Mid-Range\n",
      "18    Mid-Range\n",
      "19       Luxury\n",
      "Name: Price_Category, dtype: object\n"
     ]
    }
   ],
   "source": [
    "print(data['Price_Category'])"
   ]
  },
  {
   "cell_type": "code",
   "execution_count": 288,
   "id": "6e45b2ef-f68a-4fc6-813b-308510b8c782",
   "metadata": {},
   "outputs": [],
   "source": [
    "#Standardize Model title\n",
    "data['Model'] = data['Model'].str.title()"
   ]
  },
  {
   "cell_type": "code",
   "execution_count": 292,
   "id": "f2c26c60-c84e-4beb-98b6-78b388cc52a5",
   "metadata": {},
   "outputs": [],
   "source": [
    "# Remove cars with negative mileage\n",
    "data = data[data['Mileage'] >= 0]  # Keep only rows where mileage is non-negative\n"
   ]
  },
  {
   "cell_type": "code",
   "execution_count": null,
   "id": "994af5f7-ad55-4d93-a845-c61148e5e222",
   "metadata": {},
   "outputs": [],
   "source": []
  }
 ],
 "metadata": {
  "kernelspec": {
   "display_name": "Python 3 (ipykernel)",
   "language": "python",
   "name": "python3"
  },
  "language_info": {
   "codemirror_mode": {
    "name": "ipython",
    "version": 3
   },
   "file_extension": ".py",
   "mimetype": "text/x-python",
   "name": "python",
   "nbconvert_exporter": "python",
   "pygments_lexer": "ipython3",
   "version": "3.12.4"
  }
 },
 "nbformat": 4,
 "nbformat_minor": 5
}
